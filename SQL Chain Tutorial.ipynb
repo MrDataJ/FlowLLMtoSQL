{
 "cells": [
  {
   "attachments": {},
   "cell_type": "markdown",
   "metadata": {},
   "source": [
    "# Tutorial for SQL Langchain\n",
    "https://python.langchain.com/en/latest/modules/chains/examples/sqlite.html\n",
    "https://www.youtube.com/watch?v=ylWAxc0Mrjc"
   ]
  },
  {
   "cell_type": "code",
   "execution_count": 1,
   "metadata": {},
   "outputs": [
    {
     "name": "stdout",
     "output_type": "stream",
     "text": [
      "Collecting langchain\n",
      "  Downloading langchain-0.0.186-py3-none-any.whl (949 kB)\n",
      "                                              0.0/949.7 kB ? eta -:--:--\n",
      "     ----                                   112.6/949.7 kB 3.3 MB/s eta 0:00:01\n",
      "     -----------                            286.7/949.7 kB 3.5 MB/s eta 0:00:01\n",
      "     ----------------------                 553.0/949.7 kB 4.3 MB/s eta 0:00:01\n",
      "     -----------------------                583.7/949.7 kB 3.7 MB/s eta 0:00:01\n",
      "     -------------------------------------- 949.7/949.7 kB 5.5 MB/s eta 0:00:00\n",
      "Collecting watermark\n",
      "  Downloading watermark-2.4.2-py2.py3-none-any.whl (7.5 kB)\n",
      "Requirement already satisfied: openai in c:\\users\\djape\\onedrive\\projects\\blockchain analyst ai\\.venv\\lib\\site-packages (0.27.7)\n",
      "Collecting PyYAML>=5.4.1 (from langchain)\n",
      "  Using cached PyYAML-6.0-cp311-cp311-win_amd64.whl (143 kB)\n",
      "Collecting SQLAlchemy<3,>=1.4 (from langchain)\n",
      "  Downloading SQLAlchemy-2.0.15-cp311-cp311-win_amd64.whl (2.0 MB)\n",
      "                                              0.0/2.0 MB ? eta -:--:--\n",
      "     --------                                 0.4/2.0 MB 12.5 MB/s eta 0:00:01\n",
      "     -----------------                        0.8/2.0 MB 10.6 MB/s eta 0:00:01\n",
      "     ---------------------------              1.4/2.0 MB 10.7 MB/s eta 0:00:01\n",
      "     --------------------------------------   1.9/2.0 MB 10.9 MB/s eta 0:00:01\n",
      "     ---------------------------------------- 2.0/2.0 MB 10.4 MB/s eta 0:00:00\n",
      "Requirement already satisfied: aiohttp<4.0.0,>=3.8.3 in c:\\users\\djape\\onedrive\\projects\\blockchain analyst ai\\.venv\\lib\\site-packages (from langchain) (3.8.4)\n",
      "Collecting dataclasses-json<0.6.0,>=0.5.7 (from langchain)\n",
      "  Downloading dataclasses_json-0.5.7-py3-none-any.whl (25 kB)\n",
      "Collecting numexpr<3.0.0,>=2.8.4 (from langchain)\n",
      "  Downloading numexpr-2.8.4-cp311-cp311-win_amd64.whl (92 kB)\n",
      "                                              0.0/92.7 kB ? eta -:--:--\n",
      "     ---------------------------------------- 92.7/92.7 kB ? eta 0:00:00\n",
      "Requirement already satisfied: numpy<2,>=1 in c:\\users\\djape\\onedrive\\projects\\blockchain analyst ai\\.venv\\lib\\site-packages (from langchain) (1.24.3)\n",
      "Collecting openapi-schema-pydantic<2.0,>=1.2 (from langchain)\n",
      "  Downloading openapi_schema_pydantic-1.2.4-py3-none-any.whl (90 kB)\n",
      "                                              0.0/90.0 kB ? eta -:--:--\n",
      "     ---------------------------------------- 90.0/90.0 kB ? eta 0:00:00\n",
      "Requirement already satisfied: pydantic<2,>=1 in c:\\users\\djape\\onedrive\\projects\\blockchain analyst ai\\.venv\\lib\\site-packages (from langchain) (1.10.7)\n",
      "Requirement already satisfied: requests<3,>=2 in c:\\users\\djape\\onedrive\\projects\\blockchain analyst ai\\.venv\\lib\\site-packages (from langchain) (2.29.0)\n",
      "Collecting tenacity<9.0.0,>=8.1.0 (from langchain)\n",
      "  Downloading tenacity-8.2.2-py3-none-any.whl (24 kB)\n",
      "Requirement already satisfied: ipython>=6.0 in c:\\users\\djape\\onedrive\\projects\\blockchain analyst ai\\.venv\\lib\\site-packages (from watermark) (8.13.2)\n",
      "Collecting importlib-metadata>=1.4 (from watermark)\n",
      "  Downloading importlib_metadata-6.6.0-py3-none-any.whl (22 kB)\n",
      "Collecting py3nvml>=0.2 (from watermark)\n",
      "  Downloading py3nvml-0.2.7-py3-none-any.whl (55 kB)\n",
      "                                              0.0/55.5 kB ? eta -:--:--\n",
      "     -------------------------------------- 55.5/55.5 kB 963.0 kB/s eta 0:00:00\n",
      "Requirement already satisfied: setuptools in c:\\users\\djape\\onedrive\\projects\\blockchain analyst ai\\.venv\\lib\\site-packages (from watermark) (65.5.0)\n",
      "Requirement already satisfied: tqdm in c:\\users\\djape\\onedrive\\projects\\blockchain analyst ai\\.venv\\lib\\site-packages (from openai) (4.65.0)\n",
      "Requirement already satisfied: attrs>=17.3.0 in c:\\users\\djape\\onedrive\\projects\\blockchain analyst ai\\.venv\\lib\\site-packages (from aiohttp<4.0.0,>=3.8.3->langchain) (23.1.0)\n",
      "Requirement already satisfied: charset-normalizer<4.0,>=2.0 in c:\\users\\djape\\onedrive\\projects\\blockchain analyst ai\\.venv\\lib\\site-packages (from aiohttp<4.0.0,>=3.8.3->langchain) (3.1.0)\n",
      "Requirement already satisfied: multidict<7.0,>=4.5 in c:\\users\\djape\\onedrive\\projects\\blockchain analyst ai\\.venv\\lib\\site-packages (from aiohttp<4.0.0,>=3.8.3->langchain) (6.0.4)\n",
      "Requirement already satisfied: async-timeout<5.0,>=4.0.0a3 in c:\\users\\djape\\onedrive\\projects\\blockchain analyst ai\\.venv\\lib\\site-packages (from aiohttp<4.0.0,>=3.8.3->langchain) (4.0.2)\n",
      "Requirement already satisfied: yarl<2.0,>=1.0 in c:\\users\\djape\\onedrive\\projects\\blockchain analyst ai\\.venv\\lib\\site-packages (from aiohttp<4.0.0,>=3.8.3->langchain) (1.9.2)\n",
      "Requirement already satisfied: frozenlist>=1.1.1 in c:\\users\\djape\\onedrive\\projects\\blockchain analyst ai\\.venv\\lib\\site-packages (from aiohttp<4.0.0,>=3.8.3->langchain) (1.3.3)\n",
      "Requirement already satisfied: aiosignal>=1.1.2 in c:\\users\\djape\\onedrive\\projects\\blockchain analyst ai\\.venv\\lib\\site-packages (from aiohttp<4.0.0,>=3.8.3->langchain) (1.3.1)\n",
      "Collecting marshmallow<4.0.0,>=3.3.0 (from dataclasses-json<0.6.0,>=0.5.7->langchain)\n",
      "  Downloading marshmallow-3.19.0-py3-none-any.whl (49 kB)\n",
      "                                              0.0/49.1 kB ? eta -:--:--\n",
      "     ---------------------------------------- 49.1/49.1 kB ? eta 0:00:00\n",
      "Collecting marshmallow-enum<2.0.0,>=1.5.1 (from dataclasses-json<0.6.0,>=0.5.7->langchain)\n",
      "  Downloading marshmallow_enum-1.5.1-py2.py3-none-any.whl (4.2 kB)\n",
      "Collecting typing-inspect>=0.4.0 (from dataclasses-json<0.6.0,>=0.5.7->langchain)\n",
      "  Downloading typing_inspect-0.9.0-py3-none-any.whl (8.8 kB)\n",
      "Collecting zipp>=0.5 (from importlib-metadata>=1.4->watermark)\n",
      "  Downloading zipp-3.15.0-py3-none-any.whl (6.8 kB)\n",
      "Requirement already satisfied: backcall in c:\\users\\djape\\onedrive\\projects\\blockchain analyst ai\\.venv\\lib\\site-packages (from ipython>=6.0->watermark) (0.2.0)\n",
      "Requirement already satisfied: decorator in c:\\users\\djape\\onedrive\\projects\\blockchain analyst ai\\.venv\\lib\\site-packages (from ipython>=6.0->watermark) (5.1.1)\n",
      "Requirement already satisfied: jedi>=0.16 in c:\\users\\djape\\onedrive\\projects\\blockchain analyst ai\\.venv\\lib\\site-packages (from ipython>=6.0->watermark) (0.18.2)\n",
      "Requirement already satisfied: matplotlib-inline in c:\\users\\djape\\onedrive\\projects\\blockchain analyst ai\\.venv\\lib\\site-packages (from ipython>=6.0->watermark) (0.1.6)\n",
      "Requirement already satisfied: pickleshare in c:\\users\\djape\\onedrive\\projects\\blockchain analyst ai\\.venv\\lib\\site-packages (from ipython>=6.0->watermark) (0.7.5)\n",
      "Requirement already satisfied: prompt-toolkit!=3.0.37,<3.1.0,>=3.0.30 in c:\\users\\djape\\onedrive\\projects\\blockchain analyst ai\\.venv\\lib\\site-packages (from ipython>=6.0->watermark) (3.0.38)\n",
      "Requirement already satisfied: pygments>=2.4.0 in c:\\users\\djape\\onedrive\\projects\\blockchain analyst ai\\.venv\\lib\\site-packages (from ipython>=6.0->watermark) (2.15.1)\n",
      "Requirement already satisfied: stack-data in c:\\users\\djape\\onedrive\\projects\\blockchain analyst ai\\.venv\\lib\\site-packages (from ipython>=6.0->watermark) (0.6.2)\n",
      "Requirement already satisfied: traitlets>=5 in c:\\users\\djape\\onedrive\\projects\\blockchain analyst ai\\.venv\\lib\\site-packages (from ipython>=6.0->watermark) (5.9.0)\n",
      "Requirement already satisfied: colorama in c:\\users\\djape\\onedrive\\projects\\blockchain analyst ai\\.venv\\lib\\site-packages (from ipython>=6.0->watermark) (0.4.6)\n",
      "Collecting xmltodict (from py3nvml>=0.2->watermark)\n",
      "  Downloading xmltodict-0.13.0-py2.py3-none-any.whl (10.0 kB)\n",
      "Requirement already satisfied: typing-extensions>=4.2.0 in c:\\users\\djape\\onedrive\\projects\\blockchain analyst ai\\.venv\\lib\\site-packages (from pydantic<2,>=1->langchain) (4.6.2)\n",
      "Requirement already satisfied: idna<4,>=2.5 in c:\\users\\djape\\onedrive\\projects\\blockchain analyst ai\\.venv\\lib\\site-packages (from requests<3,>=2->langchain) (3.4)\n",
      "Requirement already satisfied: urllib3<1.27,>=1.21.1 in c:\\users\\djape\\onedrive\\projects\\blockchain analyst ai\\.venv\\lib\\site-packages (from requests<3,>=2->langchain) (1.26.16)\n",
      "Requirement already satisfied: certifi>=2017.4.17 in c:\\users\\djape\\onedrive\\projects\\blockchain analyst ai\\.venv\\lib\\site-packages (from requests<3,>=2->langchain) (2023.5.7)\n",
      "Collecting greenlet!=0.4.17 (from SQLAlchemy<3,>=1.4->langchain)\n",
      "  Downloading greenlet-2.0.2-cp311-cp311-win_amd64.whl (192 kB)\n",
      "                                              0.0/192.5 kB ? eta -:--:--\n",
      "     --------                                 41.0/192.5 kB ? eta -:--:--\n",
      "     -------------------------------------- 192.5/192.5 kB 4.0 MB/s eta 0:00:00\n",
      "Requirement already satisfied: parso<0.9.0,>=0.8.0 in c:\\users\\djape\\onedrive\\projects\\blockchain analyst ai\\.venv\\lib\\site-packages (from jedi>=0.16->ipython>=6.0->watermark) (0.8.3)\n",
      "Requirement already satisfied: packaging>=17.0 in c:\\users\\djape\\onedrive\\projects\\blockchain analyst ai\\.venv\\lib\\site-packages (from marshmallow<4.0.0,>=3.3.0->dataclasses-json<0.6.0,>=0.5.7->langchain) (23.1)\n",
      "Requirement already satisfied: wcwidth in c:\\users\\djape\\onedrive\\projects\\blockchain analyst ai\\.venv\\lib\\site-packages (from prompt-toolkit!=3.0.37,<3.1.0,>=3.0.30->ipython>=6.0->watermark) (0.2.6)\n",
      "Collecting mypy-extensions>=0.3.0 (from typing-inspect>=0.4.0->dataclasses-json<0.6.0,>=0.5.7->langchain)\n",
      "  Downloading mypy_extensions-1.0.0-py3-none-any.whl (4.7 kB)\n",
      "Requirement already satisfied: executing>=1.2.0 in c:\\users\\djape\\onedrive\\projects\\blockchain analyst ai\\.venv\\lib\\site-packages (from stack-data->ipython>=6.0->watermark) (1.2.0)\n",
      "Requirement already satisfied: asttokens>=2.1.0 in c:\\users\\djape\\onedrive\\projects\\blockchain analyst ai\\.venv\\lib\\site-packages (from stack-data->ipython>=6.0->watermark) (2.2.1)\n",
      "Requirement already satisfied: pure-eval in c:\\users\\djape\\onedrive\\projects\\blockchain analyst ai\\.venv\\lib\\site-packages (from stack-data->ipython>=6.0->watermark) (0.2.2)\n",
      "Requirement already satisfied: six in c:\\users\\djape\\onedrive\\projects\\blockchain analyst ai\\.venv\\lib\\site-packages (from asttokens>=2.1.0->stack-data->ipython>=6.0->watermark) (1.16.0)\n",
      "Installing collected packages: zipp, xmltodict, tenacity, PyYAML, numexpr, mypy-extensions, marshmallow, greenlet, typing-inspect, SQLAlchemy, py3nvml, openapi-schema-pydantic, marshmallow-enum, importlib-metadata, dataclasses-json, watermark, langchain\n",
      "Successfully installed PyYAML-6.0 SQLAlchemy-2.0.15 dataclasses-json-0.5.7 greenlet-2.0.2 importlib-metadata-6.6.0 langchain-0.0.186 marshmallow-3.19.0 marshmallow-enum-1.5.1 mypy-extensions-1.0.0 numexpr-2.8.4 openapi-schema-pydantic-1.2.4 py3nvml-0.2.7 tenacity-8.2.2 typing-inspect-0.9.0 watermark-2.4.2 xmltodict-0.13.0 zipp-3.15.0\n",
      "Note: you may need to restart the kernel to use updated packages.\n"
     ]
    }
   ],
   "source": [
    "# Requirements\n",
    "%pip install langchain watermark openai"
   ]
  },
  {
   "cell_type": "code",
   "execution_count": 3,
   "metadata": {},
   "outputs": [],
   "source": [
    "import os\n",
    "import openai\n",
    "import warnings\n",
    "from dotenv import load_dotenv\n",
    "\n",
    "warnings.filterwarnings('ignore')"
   ]
  },
  {
   "cell_type": "code",
   "execution_count": 14,
   "metadata": {},
   "outputs": [],
   "source": [
    "# Use the schema to create sql code to create a table\n",
    "load_dotenv()\n",
    "openai.api_key = os.getenv(\"OPENAI_API\")\n",
    "\n",
    "os.getenv(\"OPENAI_API_KEY\")"
   ]
  },
  {
   "cell_type": "code",
   "execution_count": 6,
   "metadata": {},
   "outputs": [],
   "source": [
    "from langchain import OpenAI, SQLDatabase, SQLDatabaseChain\n"
   ]
  },
  {
   "cell_type": "code",
   "execution_count": 19,
   "metadata": {},
   "outputs": [],
   "source": [
    "sqlite_db_path = \"tutorial/chinook.db\"\n",
    "db = SQLDatabase.from_uri(f\"sqlite:///{sqlite_db_path}\")\n",
    "llm = OpenAI(temperature=0)"
   ]
  },
  {
   "cell_type": "code",
   "execution_count": 20,
   "metadata": {},
   "outputs": [],
   "source": [
    "db_chain = SQLDatabaseChain.from_llm(llm, db, verbose=True)"
   ]
  },
  {
   "cell_type": "code",
   "execution_count": 21,
   "metadata": {},
   "outputs": [
    {
     "name": "stdout",
     "output_type": "stream",
     "text": [
      "\n",
      "\n",
      "\u001b[1m> Entering new SQLDatabaseChain chain...\u001b[0m\n",
      "How many employees are there?\n",
      "SQLQuery:\u001b[32;1m\u001b[1;3mSELECT COUNT(*) FROM employees;\u001b[0m\n",
      "SQLResult: \u001b[33;1m\u001b[1;3m[(8,)]\u001b[0m\n",
      "Answer:\u001b[32;1m\u001b[1;3mThere are 8 employees.\u001b[0m\n",
      "\u001b[1m> Finished chain.\u001b[0m\n"
     ]
    },
    {
     "data": {
      "text/plain": [
       "'There are 8 employees.'"
      ]
     },
     "execution_count": 21,
     "metadata": {},
     "output_type": "execute_result"
    }
   ],
   "source": [
    "db_chain.run(\"How many employees are there?\")"
   ]
  },
  {
   "cell_type": "code",
   "execution_count": 22,
   "metadata": {},
   "outputs": [
    {
     "name": "stdout",
     "output_type": "stream",
     "text": [
      "\n",
      "\n",
      "\u001b[1m> Entering new SQLDatabaseChain chain...\u001b[0m\n",
      "How many employees are there and what are their first names?\n",
      "SQLQuery:\u001b[32;1m\u001b[1;3mSELECT COUNT(*), \"FirstName\" FROM employees LIMIT 5;\u001b[0m\n",
      "SQLResult: \u001b[33;1m\u001b[1;3m[(8, 'Andrew')]\u001b[0m\n",
      "Answer:\u001b[32;1m\u001b[1;3mThere are 8 employees and their first names are Andrew.\u001b[0m\n",
      "\u001b[1m> Finished chain.\u001b[0m\n"
     ]
    },
    {
     "data": {
      "text/plain": [
       "'There are 8 employees and their first names are Andrew.'"
      ]
     },
     "execution_count": 22,
     "metadata": {},
     "output_type": "execute_result"
    }
   ],
   "source": [
    "db_chain_checked = SQLDatabaseChain.from_llm(llm, db, verbose=True, use_query_checker=True)\n",
    "db_chain_checked.run(\"How many employees are there and what are their first names?\")"
   ]
  },
  {
   "attachments": {},
   "cell_type": "markdown",
   "metadata": {},
   "source": [
    "# Customize Prompt\n",
    "You can also customize the prompt that is used. Here is an example prompting it to understand that foobar is the same as the Employee table"
   ]
  },
  {
   "cell_type": "code",
   "execution_count": 23,
   "metadata": {},
   "outputs": [],
   "source": [
    "from langchain.prompts.prompt import PromptTemplate\n",
    "\n",
    "_DEFAULT_TEMPLATE = \"\"\"Given an input question, first create a syntactically correct {dialect} query to run, then look at the results of the query and return the answer.\n",
    "Use the following format:\n",
    "\n",
    "Question: \"Question here\"\n",
    "SQLQuery: \"SQL Query to run\"\n",
    "SQLResult: \"Result of the SQLQuery\"\n",
    "Answer: \"Final answer here\"\n",
    "\n",
    "Only use the following tables:\n",
    "\n",
    "{table_info}\n",
    "\n",
    "If someone asks for the table foobar, they really mean the employee table.\n",
    "\n",
    "Question: {input}\"\"\"\n",
    "PROMPT = PromptTemplate(\n",
    "    input_variables=[\"input\", \"table_info\", \"dialect\"], template=_DEFAULT_TEMPLATE\n",
    ")"
   ]
  },
  {
   "cell_type": "code",
   "execution_count": 24,
   "metadata": {},
   "outputs": [
    {
     "name": "stdout",
     "output_type": "stream",
     "text": [
      "\n",
      "\n",
      "\u001b[1m> Entering new SQLDatabaseChain chain...\u001b[0m\n",
      "How many employees are there in the foobar table?\n",
      "SQLQuery:\u001b[32;1m\u001b[1;3mSELECT COUNT(*) FROM employees;\u001b[0m\n",
      "SQLResult: \u001b[33;1m\u001b[1;3m[(8,)]\u001b[0m\n",
      "Answer:\u001b[32;1m\u001b[1;3mThere are 8 employees in the foobar table.\u001b[0m\n",
      "\u001b[1m> Finished chain.\u001b[0m\n"
     ]
    },
    {
     "data": {
      "text/plain": [
       "'There are 8 employees in the foobar table.'"
      ]
     },
     "execution_count": 24,
     "metadata": {},
     "output_type": "execute_result"
    }
   ],
   "source": [
    "db_chain = SQLDatabaseChain.from_llm(llm, db, prompt=PROMPT, verbose=True)\n",
    "db_chain.run(\"How many employees are there in the foobar table?\")"
   ]
  },
  {
   "cell_type": "code",
   "execution_count": null,
   "metadata": {},
   "outputs": [],
   "source": []
  }
 ],
 "metadata": {
  "kernelspec": {
   "display_name": ".venv",
   "language": "python",
   "name": "python3"
  },
  "language_info": {
   "codemirror_mode": {
    "name": "ipython",
    "version": 3
   },
   "file_extension": ".py",
   "mimetype": "text/x-python",
   "name": "python",
   "nbconvert_exporter": "python",
   "pygments_lexer": "ipython3",
   "version": "3.11.3"
  },
  "orig_nbformat": 4
 },
 "nbformat": 4,
 "nbformat_minor": 2
}
