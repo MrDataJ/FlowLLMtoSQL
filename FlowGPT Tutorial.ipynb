{
 "cells": [
  {
   "attachments": {},
   "cell_type": "markdown",
   "metadata": {},
   "source": [
    "# FlowGPT Tutorial\n",
    "Welcome to the [FlowGPT AI!](www.mrdataj.com/chatbot) This chatbot is trained specifically to understand and retrieve data from the following Flow tables on Flipside:\n",
    "- flow.core.ez_nft_sales\n",
    "- flow.core.ez_bridge_transactions\n",
    "- flow.core.ez_staking_actions\n",
    "- flow.core.ez_swaps\n",
    "- flow.core.ez_token_transfers\n",
    "- flow.core.fact_transactions\n",
    "\n",
    "For more information about these tables, you can visit the [Flipside Documentation](https://flipsidecrypto.github.io/flow-models/#!/overview).\n",
    "\n",
    "## How to Use\n",
    "Utilizing the chatbot is straightforward - simply ask any analytics-related question. You can either click the 'send' button or press 'enter' to submit your query. The AI typically responds within 4 minutes - it takes time to ensure the accuracy of the data.\n",
    "\n",
    "## Under the Hood\n",
    "To deliver precise answers, the AI follows these steps:\n",
    "\n",
    "1. It first identifies the relevant table from the list above based on your question.\n",
    "2. Then, it retrieves the table schema and some sample data to help construct a SQL query.\n",
    "3. The AI then evaluates both the question and the formulated query for sense and relevance.\n",
    "4. The final query is sent off to Flipside to gather the required data.\n",
    "5. Lastly, the AI interprets the retrieved data and aligns the response with the original question, providing a relevant, comprehensive answer.\n",
    "## Sample Questions\n",
    "Here are some sample questions you can try:\n",
    "- \"How many NFT sales occurred in July 2022?\"\n",
    "- \"What is the daily count and average value of transactions during July 2022?\"\n",
    "- \"How many successful staking events happened in the past week?\"\n",
    "- \"What were the top 10 DEX pools by swap volume in March 2023?\"\n",
    "\n",
    "Feel free to modify these or ask new questions based on your data requirements. The AI is designed to be flexible and responsive to a wide array of queries."
   ]
  }
 ],
 "metadata": {
  "language_info": {
   "name": "python"
  },
  "orig_nbformat": 4
 },
 "nbformat": 4,
 "nbformat_minor": 2
}
